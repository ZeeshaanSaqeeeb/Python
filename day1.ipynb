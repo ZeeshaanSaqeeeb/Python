{
 "cells": [
  {
   "cell_type": "code",
   "execution_count": 1,
   "id": "e5cc0a15",
   "metadata": {},
   "outputs": [
    {
     "data": {
      "text/plain": [
       "'Hello'"
      ]
     },
     "execution_count": 1,
     "metadata": {},
     "output_type": "execute_result"
    }
   ],
   "source": [
    "\"Hello\""
   ]
  },
  {
   "cell_type": "code",
   "execution_count": 2,
   "id": "83eee00e",
   "metadata": {},
   "outputs": [
    {
     "name": "stdout",
     "output_type": "stream",
     "text": [
      "my name is zee with email xyz\n"
     ]
    }
   ],
   "source": [
    "user=\"zee\"\n",
    "email=\"xyz\"\n",
    "print(f\"my name is {user} with email {email}\")"
   ]
  },
  {
   "cell_type": "code",
   "execution_count": 3,
   "id": "4857a0aa",
   "metadata": {
    "scrolled": true
   },
   "outputs": [
    {
     "name": "stdout",
     "output_type": "stream",
     "text": [
      "Hey zee,your email id is \n"
     ]
    }
   ],
   "source": [
    "print(\"Hey {},your email id is \".format(user,email))"
   ]
  },
  {
   "cell_type": "code",
   "execution_count": 4,
   "id": "c021eef3",
   "metadata": {},
   "outputs": [
    {
     "name": "stdout",
     "output_type": "stream",
     "text": [
      "x=5.123\n"
     ]
    }
   ],
   "source": [
    "## use the formatting for converting float to string\n",
    "x=5.123\n",
    "print(f\"x={x}\")"
   ]
  },
  {
   "cell_type": "code",
   "execution_count": 5,
   "id": "9be94568",
   "metadata": {},
   "outputs": [],
   "source": [
    "city=\"Banglore\"\n"
   ]
  },
  {
   "cell_type": "code",
   "execution_count": 6,
   "id": "8522f39c",
   "metadata": {},
   "outputs": [],
   "source": [
    "flag=False\n",
    "while(flag):\n",
    "    a=input(\"Enter 1st number\")\n",
    "    b=input(\"Enter 2nd number\")\n",
    "    if (a.isnumeric() and type(a) is int) and (b.isnumeric() and type(b) is int):\n",
    "        print(a+b)\n",
    "        break\n",
    "    else:\n",
    "        flag=False\n",
    "        \n",
    "        \n",
    "    \n",
    "        \n"
   ]
  },
  {
   "cell_type": "code",
   "execution_count": 7,
   "id": "c7ba2aca",
   "metadata": {},
   "outputs": [
    {
     "name": "stdout",
     "output_type": "stream",
     "text": [
      "Enter 1st number1\n",
      "Enter 2nd number\n"
     ]
    }
   ],
   "source": [
    "a=input(\"Enter 1st number\")\n",
    "b=input(\"Enter 2nd number\")"
   ]
  },
  {
   "cell_type": "code",
   "execution_count": 8,
   "id": "6ec694f0",
   "metadata": {},
   "outputs": [
    {
     "name": "stdout",
     "output_type": "stream",
     "text": [
      "abc\n"
     ]
    }
   ],
   "source": [
    "#2q. Take a string from a user in case if you find out any adjacent characters in repetition \n",
    "\n",
    "s=\"abbbbcccccd\"\n",
    "res=''\n",
    "for i in range(0,len(s)-1):\n",
    "    if s[i]==s[i+1]:\n",
    "        count=2\n",
    "        for j in range(i+2,len(s)):\n",
    "            if s[i]==s[j]:\n",
    "                count+=1\n",
    "            else:\n",
    "                break\n",
    "        i+=(count+1)\n",
    "    else:\n",
    "        res+=s[i]\n",
    "\n",
    "\n",
    "       \n",
    "print(res)     "
   ]
  },
  {
   "cell_type": "code",
   "execution_count": 9,
   "id": "10f500a0",
   "metadata": {},
   "outputs": [
    {
     "name": "stdout",
     "output_type": "stream",
     "text": [
      "acko\n"
     ]
    }
   ],
   "source": [
    "s=\"abbbbcddkokk\"\n",
    "res=''\n",
    "i=0\n",
    "while(i<len(s)-1):\n",
    "    if s[i]==s[i+1]:\n",
    "        count=2\n",
    "        for j in range(i+2,len(s)):\n",
    "            if s[i]==s[j]:\n",
    "                count+=1\n",
    "            else:\n",
    "                break\n",
    "        i+=(count)\n",
    "        \n",
    "    else:\n",
    "        res+=s[i]\n",
    "        i+=1\n",
    "if s[-2]!=s[-1]:\n",
    "    res+=s[-1]\n",
    "print(res)"
   ]
  },
  {
   "cell_type": "code",
   "execution_count": 10,
   "id": "61139548",
   "metadata": {},
   "outputs": [
    {
     "name": "stdout",
     "output_type": "stream",
     "text": [
      "*\n",
      "**\n",
      "***\n",
      "****\n"
     ]
    }
   ],
   "source": [
    "r=4\n",
    "c=4\n",
    "for i in range(1,r+1):\n",
    "    for j in range(i):\n",
    "        print(\"*\",end='')\n",
    "    print()"
   ]
  },
  {
   "cell_type": "code",
   "execution_count": 11,
   "id": "f4ac29dd",
   "metadata": {},
   "outputs": [
    {
     "name": "stdout",
     "output_type": "stream",
     "text": [
      "****\n",
      "***\n",
      "**\n",
      "*\n",
      "\n"
     ]
    }
   ],
   "source": [
    "r=4\n",
    "c=4\n",
    "for i  in range(r,-1,-1):\n",
    "    for j in range(i):\n",
    "        print(\"*\",end='')\n",
    "    print()"
   ]
  },
  {
   "cell_type": "code",
   "execution_count": 12,
   "id": "7f391002",
   "metadata": {},
   "outputs": [
    {
     "name": "stdout",
     "output_type": "stream",
     "text": [
      "\n",
      "A\n",
      "AB\n",
      "ABC\n",
      "ABCD\n"
     ]
    }
   ],
   "source": [
    "r=4\n",
    "for i  in range(r+1):\n",
    "    c='A'\n",
    "    for j in range(i):\n",
    "        print(chr(ord(c)+j),end='')\n",
    "    print()"
   ]
  },
  {
   "cell_type": "code",
   "execution_count": 13,
   "id": "9690fb1d",
   "metadata": {},
   "outputs": [
    {
     "name": "stdout",
     "output_type": "stream",
     "text": [
      "\n",
      "A\n",
      "BC\n",
      "DEF\n",
      "GHIJ\n"
     ]
    }
   ],
   "source": [
    "r=4\n",
    "char='A'\n",
    "for i  in range(r+1):\n",
    "    for j in range(i):\n",
    "        print(char,end='')\n",
    "        char=chr(ord(char)+1)\n",
    "        \n",
    "    print()"
   ]
  },
  {
   "cell_type": "code",
   "execution_count": 14,
   "id": "6b0b214e",
   "metadata": {},
   "outputs": [
    {
     "name": "stdout",
     "output_type": "stream",
     "text": [
      "* * * * * \n",
      "*       * \n",
      "*       * \n",
      "*       * \n",
      "* * * * * \n"
     ]
    }
   ],
   "source": [
    "n=5\n",
    "for i in range(n):\n",
    "    for j in range(n):\n",
    "        if i==0 or i==n-1 or j==0 or j==n-1:\n",
    "            print(\"*\",end=' ')\n",
    "        else:\n",
    "            print(\" \",end=' ')\n",
    "    print()"
   ]
  },
  {
   "cell_type": "raw",
   "id": "37c71dce",
   "metadata": {},
   "source": [
    "\n"
   ]
  },
  {
   "cell_type": "code",
   "execution_count": 15,
   "id": "cf7a760a",
   "metadata": {},
   "outputs": [
    {
     "name": "stdout",
     "output_type": "stream",
     "text": [
      "1 \n",
      "2 4 \n",
      "3 6 9 \n",
      "4 8 12 16 \n",
      "5 10 15 20 25 \n"
     ]
    }
   ],
   "source": [
    "n=5\n",
    "for i in range(1,n+1):\n",
    "    for j in range(1,i+1):\n",
    "        print(i*j,end=' ')\n",
    "    else:\n",
    "        print()"
   ]
  },
  {
   "cell_type": "code",
   "execution_count": 16,
   "id": "5bfc847f",
   "metadata": {},
   "outputs": [
    {
     "name": "stdout",
     "output_type": "stream",
     "text": [
      "   *\n",
      "  **\n",
      " ***\n",
      "****\n"
     ]
    }
   ],
   "source": [
    "r=4\n",
    "for i in range(1,r+1):\n",
    "    for j in range(1,r-i+1):\n",
    "        print(\" \",end='')\n",
    "    for k in range(1,i+1):\n",
    "        print(\"*\",end='')\n",
    "    print()\n",
    "        \n",
    "    \n",
    "            \n",
    "\n",
    "        "
   ]
  },
  {
   "cell_type": "code",
   "execution_count": 17,
   "id": "dff011aa",
   "metadata": {},
   "outputs": [
    {
     "name": "stdout",
     "output_type": "stream",
     "text": [
      "10 9 8 7 \n",
      "6 5 4 \n",
      "3 2 \n",
      "1 \n"
     ]
    }
   ],
   "source": [
    "k=10\n",
    "r=4\n",
    "for i in range(1,r+1):\n",
    "    for j in range(1,r-i+2):\n",
    "        print(k,end=' ')\n",
    "        k-=1\n",
    "    print()"
   ]
  },
  {
   "cell_type": "code",
   "execution_count": 18,
   "id": "64abac3d",
   "metadata": {},
   "outputs": [
    {
     "name": "stdout",
     "output_type": "stream",
     "text": [
      "    *\n",
      "   ***\n",
      "  *****\n",
      " *******\n",
      "*********\n"
     ]
    }
   ],
   "source": [
    "r=5\n",
    "for i in range(1,r+1):\n",
    "    for j in range(1,r-i+1):\n",
    "        print(\" \",end='')\n",
    "    for k in range(1,2*i):\n",
    "        print(\"*\",end='')\n",
    "    print()"
   ]
  },
  {
   "cell_type": "code",
   "execution_count": 19,
   "id": "d49debd9",
   "metadata": {},
   "outputs": [
    {
     "name": "stdout",
     "output_type": "stream",
     "text": [
      "*********\n",
      " *******\n",
      "  *****\n",
      "   ***\n",
      "    *\n"
     ]
    }
   ],
   "source": [
    "r=5\n",
    "for i in range(r):\n",
    "    for j in range(i):\n",
    "        print(\" \",end='')\n",
    "    for k in range(1,2*(r-i)):\n",
    "        print(\"*\",end='')\n",
    "    print()\n",
    "    \n",
    "    "
   ]
  },
  {
   "cell_type": "code",
   "execution_count": 20,
   "id": "db9af722",
   "metadata": {},
   "outputs": [
    {
     "name": "stdout",
     "output_type": "stream",
     "text": [
      "Enter 1st number 1\n",
      "Enter 2nd number 2\n",
      "3 -1 0.5 1 0 1\n"
     ]
    }
   ],
   "source": [
    "def is_integer(a):\n",
    "    num='0123456789'\n",
    "    for char in a:\n",
    "        if char not in num:\n",
    "            return False\n",
    "    return True\n",
    "while(True):\n",
    "    a=input('Enter 1st number ')\n",
    "    b=input('Enter 2nd number ')\n",
    "    if is_integer(a) and is_integer(b):\n",
    "        a=int(a)\n",
    "        b=int(b)\n",
    "        print(a+b,a-b,a/b,a%b,a//b,a**b)\n",
    "        break\n",
    "    \n",
    "    \n",
    "\n",
    "\n"
   ]
  },
  {
   "cell_type": "code",
   "execution_count": null,
   "id": "c4efbe8a",
   "metadata": {},
   "outputs": [],
   "source": []
  },
  {
   "cell_type": "code",
   "execution_count": null,
   "id": "7be925d1",
   "metadata": {},
   "outputs": [],
   "source": []
  }
 ],
 "metadata": {
  "kernelspec": {
   "display_name": "Python 3 (ipykernel)",
   "language": "python",
   "name": "python3"
  },
  "language_info": {
   "codemirror_mode": {
    "name": "ipython",
    "version": 3
   },
   "file_extension": ".py",
   "mimetype": "text/x-python",
   "name": "python",
   "nbconvert_exporter": "python",
   "pygments_lexer": "ipython3",
   "version": "3.9.13"
  }
 },
 "nbformat": 4,
 "nbformat_minor": 5
}
