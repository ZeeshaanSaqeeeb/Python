{
 "cells": [
  {
   "cell_type": "markdown",
   "id": "7c90414d",
   "metadata": {},
   "source": [
    "swap 2 variables without using 3rd variable"
   ]
  },
  {
   "cell_type": "code",
   "execution_count": 1,
   "id": "ea9d12b7",
   "metadata": {},
   "outputs": [
    {
     "name": "stdout",
     "output_type": "stream",
     "text": [
      "3 1\n"
     ]
    }
   ],
   "source": [
    "x=1\n",
    "y=3\n",
    "\n",
    "x=x+y\n",
    "y=x-y\n",
    "x=x-y\n",
    "print(x,y)"
   ]
  },
  {
   "cell_type": "markdown",
   "id": "51d62eb5",
   "metadata": {},
   "source": [
    "write a function to take a list value and create its cube if its a integer number and make the changes for the original data on every index"
   ]
  },
  {
   "cell_type": "code",
   "execution_count": 2,
   "id": "8158e8a5",
   "metadata": {},
   "outputs": [
    {
     "name": "stdout",
     "output_type": "stream",
     "text": [
      "[1, 8, 27, 64]\n"
     ]
    }
   ],
   "source": [
    "def cube(l):\n",
    "    for i in range(len(l)):\n",
    "        if type(l[i])==int:\n",
    "            l[i]=l[i]**3\n",
    "a=[1,2,3,4]\n",
    "cube(a)\n",
    "print(a)"
   ]
  },
  {
   "cell_type": "markdown",
   "id": "de4d0d95",
   "metadata": {},
   "source": [
    "Write a program to find lcm of 2 numbers"
   ]
  },
  {
   "cell_type": "code",
   "execution_count": 3,
   "id": "6a89c2bf",
   "metadata": {},
   "outputs": [
    {
     "name": "stdout",
     "output_type": "stream",
     "text": [
      "100\n"
     ]
    }
   ],
   "source": [
    "a=20\n",
    "b=25\n",
    "maxi=max(a,b)\n",
    "lcm=maxi\n",
    "i=1\n",
    "while(True):\n",
    "    if maxi*i%a==0 and maxi*i%b==0:\n",
    "        lcm=maxi*i\n",
    "        break;\n",
    "    i+=1\n",
    "print(lcm)\n",
    "        "
   ]
  },
  {
   "cell_type": "markdown",
   "id": "26c1acf7",
   "metadata": {},
   "source": [
    "Write  a program to find gcd of 2 numbers"
   ]
  },
  {
   "cell_type": "code",
   "execution_count": 4,
   "id": "34f23aa3",
   "metadata": {},
   "outputs": [
    {
     "name": "stdout",
     "output_type": "stream",
     "text": [
      "1\n"
     ]
    }
   ],
   "source": [
    "a=13\n",
    "b=17\n",
    "mini=min(a,b)\n",
    "i=1\n",
    "gcd=1\n",
    "while(i<=mini):\n",
    "    if a%i==0 and b%i==0:\n",
    "        if gcd<i:\n",
    "            gcd=i\n",
    "    i+=1\n",
    "print(gcd)\n",
    "\n"
   ]
  },
  {
   "cell_type": "markdown",
   "id": "ac529109",
   "metadata": {},
   "source": [
    "Create a function which takes a parameter of string type \n",
    "-Accept the string in case if the string contains all the  vowels only in even positions\n",
    "-else reject"
   ]
  },
  {
   "cell_type": "code",
   "execution_count": 5,
   "id": "d6aa65f3",
   "metadata": {},
   "outputs": [
    {
     "name": "stdout",
     "output_type": "stream",
     "text": [
      "True\n"
     ]
    }
   ],
   "source": [
    "def has_all_vowels(s):\n",
    "    a=set(s)\n",
    "    c=0\n",
    "    for i in a:\n",
    "        if i in 'aeiou':\n",
    "            c+=1\n",
    "    if c==5:\n",
    "        return True\n",
    "    else:\n",
    "        return False\n",
    "s='aeiousAll'\n",
    "print(has_all_vowels(s.lower()))\n",
    "\n",
    "        "
   ]
  },
  {
   "cell_type": "code",
   "execution_count": 6,
   "id": "cdd64dc5",
   "metadata": {},
   "outputs": [
    {
     "name": "stdout",
     "output_type": "stream",
     "text": [
      "String rejected as vowels are not in even positions\n"
     ]
    }
   ],
   "source": [
    "def check_vowel_in_even_pos(s):\n",
    "    flag=True\n",
    "    if has_all_vowels(s):\n",
    "        for i in s:\n",
    "            if s.index('a')%2==1 or s.index('e')%2==1 or s.index('i')%2==1 or s.index('o')%2==1 or s.index('u')%2==1:\n",
    "                flag=False\n",
    "                break\n",
    "    return flag\n",
    "s='aezisoxu'\n",
    "if check_vowel_in_even_pos(s):\n",
    "    print(\"String accepted\")\n",
    "else:\n",
    "    print(\"String rejected as vowels are not in even positions\")"
   ]
  },
  {
   "cell_type": "markdown",
   "id": "eca39eba",
   "metadata": {},
   "source": [
    "Find lcm of multiple elements by  using variable length arguments in the function"
   ]
  },
  {
   "cell_type": "code",
   "execution_count": 7,
   "id": "785dae24",
   "metadata": {},
   "outputs": [
    {
     "name": "stdout",
     "output_type": "stream",
     "text": [
      "120\n"
     ]
    }
   ],
   "source": [
    "def find_lcm(*args):\n",
    "    if len(args)<2:\n",
    "        print(\"Please enter atleast 2 numbers to find LCM\")\n",
    "        return\n",
    "    else:\n",
    "        \n",
    "        m=max(args)\n",
    "        i=1\n",
    "        lcm=m\n",
    "        while True:\n",
    "            count=0\n",
    "            for e in args:\n",
    "                if m*i%e!=0:\n",
    "                    break\n",
    "                else:\n",
    "                    count+=1\n",
    "            if count==len(args):\n",
    "                lcm=m*i\n",
    "                break\n",
    "            i+=1\n",
    "    return lcm\n",
    "print(find_lcm(10,20,30,40))\n",
    "                \n",
    "        \n"
   ]
  },
  {
   "cell_type": "code",
   "execution_count": 8,
   "id": "967c3008",
   "metadata": {},
   "outputs": [
    {
     "data": {
      "text/plain": [
       "[2, 4, 6]"
      ]
     },
     "execution_count": 8,
     "metadata": {},
     "output_type": "execute_result"
    }
   ],
   "source": [
    "list(filter(lambda x:x%2==0,[1,2,3,4,5,6]))"
   ]
  },
  {
   "cell_type": "code",
   "execution_count": 9,
   "id": "2f0f9eb8",
   "metadata": {},
   "outputs": [
    {
     "data": {
      "text/plain": [
       "[['1'], ['2'], ['3'], ['45']]"
      ]
     },
     "execution_count": 9,
     "metadata": {},
     "output_type": "execute_result"
    }
   ],
   "source": [
    "list(map(lambda x:x.split(),['1','2','3','45']))"
   ]
  },
  {
   "cell_type": "code",
   "execution_count": 10,
   "id": "387631de",
   "metadata": {},
   "outputs": [
    {
     "data": {
      "text/plain": [
       "6"
      ]
     },
     "execution_count": 10,
     "metadata": {},
     "output_type": "execute_result"
    }
   ],
   "source": [
    "import functools\n",
    "l=[1,2,3]\n",
    "functools.reduce(lambda x,y:x+y,l)"
   ]
  },
  {
   "cell_type": "code",
   "execution_count": 11,
   "id": "66ba2850",
   "metadata": {},
   "outputs": [],
   "source": [
    "#Create a lsit of dict values having keys as the names and marks as values\n",
    "student_marks=[\n",
    "    {'name':'Zee','marks':[100,200,300,400,500,600]},\n",
    "    {'name':'Saran','marks':[10,20,30,40,50,60]},\n",
    "    {'name':'Charan','marks':[20,40,50,13,67,80]}\n",
    "]"
   ]
  },
  {
   "cell_type": "code",
   "execution_count": 12,
   "id": "8901f0c6",
   "metadata": {},
   "outputs": [
    {
     "name": "stdout",
     "output_type": "stream",
     "text": [
      "Name:  Zee  Marks : [100, 200, 300, 400, 500, 600]\n",
      "Name:  Saran  Marks : [10, 20, 30, 40, 50, 60]\n",
      "Name:  Charan  Marks : [20, 40, 50, 13, 67, 80]\n"
     ]
    }
   ],
   "source": [
    "for i in student_marks:\n",
    "       print(\"Name: \",i['name'],\" Marks :\",i['marks'])"
   ]
  },
  {
   "cell_type": "code",
   "execution_count": 13,
   "id": "315816fe",
   "metadata": {},
   "outputs": [
    {
     "name": "stdout",
     "output_type": "stream",
     "text": [
      "Name:  Zee  Average: 350.0\n",
      "Name:  Saran  Average: 35.0\n",
      "Name:  Charan  Average: 45.0\n"
     ]
    }
   ],
   "source": [
    "#Create a lambda function which will calculate the average of list marks\n",
    "for i in student_marks:\n",
    "       average=lambda i:sum(i['marks'])/len(i['marks'])\n",
    "       print(\"Name: \",i['name'],\" Average:\",average(i))"
   ]
  },
  {
   "cell_type": "code",
   "execution_count": 14,
   "id": "69838806",
   "metadata": {},
   "outputs": [
    {
     "name": "stdout",
     "output_type": "stream",
     "text": [
      "Name:  Zee  Min:  100  Max  600\n",
      "Name:  Saran  Min:  10  Max  60\n",
      "Name:  Charan  Min:  13  Max  80\n"
     ]
    }
   ],
   "source": [
    "for i in student_marks:\n",
    "    i['max']=lambda i:max(i['marks'])\n",
    "    i['min']=lambda i:min(i['marks'])\n",
    "    print(\"Name: \",i['name'],\" Min: \",i['min'](i),\" Max \",i['max'](i))"
   ]
  },
  {
   "cell_type": "markdown",
   "id": "ff8914d4",
   "metadata": {},
   "source": [
    "Create a lambda function to get the table of any number \n",
    "\" 2\n",
    "4\n",
    "6\n",
    "8\n",
    "10\""
   ]
  },
  {
   "cell_type": "code",
   "execution_count": 15,
   "id": "e9d1ba0f",
   "metadata": {},
   "outputs": [
    {
     "name": "stdout",
     "output_type": "stream",
     "text": [
      "Enter a number4\n",
      "4\n",
      "8\n",
      "12\n",
      "16\n",
      "20\n",
      "24\n",
      "28\n",
      "32\n",
      "36\n",
      "40\n"
     ]
    }
   ],
   "source": [
    "y=int(input('Enter a number'))\n",
    "x=list(map(lambda x:str(x*y), range(1,11)))\n",
    "print('\\n'.join(x))"
   ]
  },
  {
   "cell_type": "code",
   "execution_count": 16,
   "id": "fa91f01c",
   "metadata": {},
   "outputs": [
    {
     "data": {
      "text/plain": [
       "6"
      ]
     },
     "execution_count": 16,
     "metadata": {},
     "output_type": "execute_result"
    }
   ],
   "source": [
    "(lambda x:sum(x))([1,2,3])"
   ]
  },
  {
   "cell_type": "code",
   "execution_count": null,
   "id": "323f26d0",
   "metadata": {},
   "outputs": [],
   "source": []
  }
 ],
 "metadata": {
  "kernelspec": {
   "display_name": "Python 3 (ipykernel)",
   "language": "python",
   "name": "python3"
  },
  "language_info": {
   "codemirror_mode": {
    "name": "ipython",
    "version": 3
   },
   "file_extension": ".py",
   "mimetype": "text/x-python",
   "name": "python",
   "nbconvert_exporter": "python",
   "pygments_lexer": "ipython3",
   "version": "3.9.13"
  }
 },
 "nbformat": 4,
 "nbformat_minor": 5
}
