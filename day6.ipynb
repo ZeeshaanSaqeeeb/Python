{
 "cells": [
  {
   "cell_type": "markdown",
   "id": "46bf83ee",
   "metadata": {},
   "source": []
  },
  {
   "cell_type": "code",
   "execution_count": 4,
   "id": "2672557c",
   "metadata": {},
   "outputs": [
    {
     "name": "stdout",
     "output_type": "stream",
     "text": [
      "tushar tusj@gmail.com\n",
      "zee zee@gmail.com\n",
      "{'name': 'zee', 'email': 'zee@gmail.com', 'userList': ['tushar', 'zee']}\n"
     ]
    }
   ],
   "source": [
    "def userInfo(name,email,userList=[]):\n",
    "    print(name,email)\n",
    "    userList.append(name)\n",
    "    return {\"name\":name, \"email\":email,\"userList\":userList}\n",
    "u1=userInfo(\"tushar\",\"tusj@gmail.com\")\n",
    "u2=userInfo(\"zee\",\"zee@gmail.com\")\n",
    "print(u2)"
   ]
  },
  {
   "cell_type": "code",
   "execution_count": 12,
   "id": "bb266935",
   "metadata": {},
   "outputs": [],
   "source": [
    "from abc import ABC,abstractmethod\n",
    "class A(ABC):\n",
    "    @abstractmethod\n",
    "    def dept(self):\n",
    "        pass\n",
    "class B(A):\n",
    "    def dept(self):\n",
    "        pass\n",
    "b=B()\n",
    "b.dept()"
   ]
  },
  {
   "cell_type": "code",
   "execution_count": 16,
   "id": "6207a80b",
   "metadata": {},
   "outputs": [
    {
     "name": "stdout",
     "output_type": "stream",
     "text": [
      "120\n"
     ]
    }
   ],
   "source": [
    "class Currency:\n",
    "    amount=20\n",
    "    def __repr__(self):\n",
    "        return f\"Currencyis {Currency.amount}\"\n",
    "    def changeCurrency(rupees):\n",
    "        return Currency.amount+rupees\n",
    "print(Currency.changeCurrency(100))\n",
    "    "
   ]
  },
  {
   "cell_type": "code",
   "execution_count": 21,
   "id": "c8648727",
   "metadata": {},
   "outputs": [
    {
     "name": "stdout",
     "output_type": "stream",
     "text": [
      "Currency class ¥:100\n"
     ]
    }
   ],
   "source": [
    "class Yen:\n",
    "    def __init__(self,amount):\n",
    "        self.amount=amount\n",
    "        self.symbol=\"¥\"\n",
    "    def __repr__(self):\n",
    "        return f\"Currency class {self.symbol}:{self.amount}\"\n",
    "y=Yen(100)\n",
    "print(y)"
   ]
  },
  {
   "cell_type": "markdown",
   "id": "8b1751e0",
   "metadata": {},
   "source": [
    "Implementing class method"
   ]
  },
  {
   "cell_type": "code",
   "execution_count": 23,
   "id": "2541ed69",
   "metadata": {},
   "outputs": [
    {
     "name": "stdout",
     "output_type": "stream",
     "text": [
      "Currency class  Yen:240\n"
     ]
    }
   ],
   "source": [
    "class Currency:\n",
    "    def __init__(self,amount):\n",
    "        self.amount=amount\n",
    "    def __repr__(self):\n",
    "        return f\" Currency is ${self.amount}\"\n",
    "    @classmethod\n",
    "    def changeCurrency(cls,x,y):\n",
    "        return cls(x+y)\n",
    "class Yen(Currency):\n",
    "    def __int__(self,amount):\n",
    "        self.amount=amount\n",
    "        self.symbol=\"¥\"\n",
    "    def __repr__(self):\n",
    "        return f\"Currency class  Yen:{self.amount}\"\n",
    "print(Yen.changeCurrency(200,40))\n",
    "        "
   ]
  },
  {
   "cell_type": "markdown",
   "id": "c3788961",
   "metadata": {},
   "source": [
    "Create a class with a instance variable intilaized to zero. Create a dunder method next which generates values till 10"
   ]
  },
  {
   "cell_type": "code",
   "execution_count": 34,
   "id": "d6117888",
   "metadata": {},
   "outputs": [
    {
     "name": "stdout",
     "output_type": "stream",
     "text": [
      "0\n",
      "1\n",
      "2\n",
      "3\n",
      "4\n",
      "5\n",
      "6\n",
      "7\n",
      "8\n",
      "9\n",
      "10\n"
     ]
    }
   ],
   "source": [
    "class Gen:\n",
    "    def __init__(self):\n",
    "        self.num=0\n",
    "    def __iter__(self):\n",
    "        return self\n",
    "    def __next__(self):\n",
    "        if self.num>10:\n",
    "            raise StopIteration\n",
    "        else:\n",
    "            x=self.num\n",
    "            self.num+=1\n",
    "            return x\n",
    "        \n",
    "g=Gen()\n",
    "for i in g:\n",
    "    print(i)"
   ]
  },
  {
   "cell_type": "markdown",
   "id": "9475ed4a",
   "metadata": {},
   "source": [
    "Create a user defined exception:\n",
    "In case the first value is less than the second value raise a BigNumber exception\n",
    "otherwise raise smallNumber exception\n",
    "and also handle those exception"
   ]
  },
  {
   "cell_type": "code",
   "execution_count": 38,
   "id": "7e0f0b27",
   "metadata": {},
   "outputs": [
    {
     "name": "stdout",
     "output_type": "stream",
     "text": [
      "enter 1st num2\n",
      "enter 2nd num4\n",
      "4 is larger than 2\n"
     ]
    }
   ],
   "source": [
    "class bigNumber(Exception):\n",
    "    pass\n",
    "class smallNumber(Exception):\n",
    "    pass\n",
    "try:\n",
    "    a=int(input(\"enter 1st num\"))\n",
    "    b=int(input(\"enter 2nd num\"))\n",
    "    if a<b:\n",
    "        raise bigNumber\n",
    "    else:\n",
    "        raise smallNumber\n",
    "except bigNumber:\n",
    "    print(f\"{b} is larger than {a}\")\n",
    "except smallNumber:\n",
    "    print(f\"{a} is smaller than {b}\")\n",
    "    "
   ]
  },
  {
   "cell_type": "code",
   "execution_count": 6,
   "id": "b40b3e04",
   "metadata": {},
   "outputs": [
    {
     "name": "stdout",
     "output_type": "stream",
     "text": [
      "id of l outside func 2284099434688\n",
      " id of l in a 2284099434688\n",
      "\n",
      "Value of l = [1] in a()\n",
      "\n",
      "Value of l = [1] after executing a()\n",
      "before 2284099434688\n",
      "after 2284099435840\n",
      "\n",
      "Value of l = [1, 9] in b()\n",
      "\n",
      "Value of l = [1] after executing b()\n"
     ]
    }
   ],
   "source": [
    "def a(l):\n",
    "    print(f' id of l in a {id(l)}')\n",
    "    l[0] = 1\n",
    "    print(\"\\nValue of l = {0} in a()\".format(l))\n",
    "\n",
    "def b(l):\n",
    "    print(f'before {id(l)}')\n",
    "    l = l+[9]\n",
    "    print(f'after {id(l)}')\n",
    "    print(\"\\nValue of l = {0} in b()\".format(l))\n",
    "\n",
    "l = [0]\n",
    "print(f'id of l outside func {id(l)}')\n",
    "a(l)\n",
    "print(\"\\nValue of l = {0} after executing a()\".format(l))\n",
    "b(l)\n",
    "print(\"\\nValue of l = {0} after executing b()\".format(l))"
   ]
  },
  {
   "cell_type": "code",
   "execution_count": 16,
   "id": "1983dc8a",
   "metadata": {},
   "outputs": [
    {
     "name": "stdout",
     "output_type": "stream",
     "text": [
      "[10] 2284099186368\n",
      "[10, [20]] 2284099186368\n"
     ]
    }
   ],
   "source": [
    "a=[10]\n",
    "print(a,id(a))\n",
    "a.append([20])\n",
    "print(a,id(a))"
   ]
  },
  {
   "cell_type": "code",
   "execution_count": 29,
   "id": "4d213454",
   "metadata": {},
   "outputs": [
    {
     "name": "stdout",
     "output_type": "stream",
     "text": [
      "2284099258288\n",
      "2284100272176\n"
     ]
    },
    {
     "data": {
      "text/plain": [
       "False"
      ]
     },
     "execution_count": 29,
     "metadata": {},
     "output_type": "execute_result"
    }
   ],
   "source": [
    "a = \"python is cool\"\n",
    "print(id(a))\n",
    "b = \"python is cool\"\n",
    "print(id(b))\n",
    "a is b\n"
   ]
  },
  {
   "cell_type": "code",
   "execution_count": 22,
   "id": "f7f1ff0a",
   "metadata": {},
   "outputs": [
    {
     "name": "stdout",
     "output_type": "stream",
     "text": [
      "2284064120944\n",
      "2284064120944\n"
     ]
    },
    {
     "data": {
      "text/plain": [
       "True"
      ]
     },
     "execution_count": 22,
     "metadata": {},
     "output_type": "execute_result"
    }
   ],
   "source": [
    "a = \"python\"\n",
    "print(id(a))\n",
    "b = \"python\"\n",
    "print(id(b))\n",
    "a is b"
   ]
  },
  {
   "cell_type": "code",
   "execution_count": 28,
   "id": "b55eeb3f",
   "metadata": {},
   "outputs": [
    {
     "data": {
      "text/plain": [
       "0"
      ]
     },
     "execution_count": 28,
     "metadata": {},
     "output_type": "execute_result"
    }
   ],
   "source": [
    "g=iter(range(0,10))\n",
    "next(g)"
   ]
  },
  {
   "cell_type": "code",
   "execution_count": 40,
   "id": "9e0746ab",
   "metadata": {},
   "outputs": [
    {
     "name": "stdout",
     "output_type": "stream",
     "text": [
      "Before executing inner\n",
      "Before executing inner\n",
      "Inside inner function\n",
      "A is being decorated\n",
      "Decoration completed\n",
      "Inside inner function\n",
      "Inside C function\n",
      "Decoration completed\n"
     ]
    }
   ],
   "source": [
    "#decorator function\n",
    "def B(func):\n",
    "    print(\"Before executing inner\")\n",
    "    def inner():\n",
    "        \"\"\" we are inside inner \"\"\"\n",
    "        print(\"Inside inner function\")\n",
    "        func()\n",
    "        return \"Decoration completed\"\n",
    "    return inner\n",
    "@B\n",
    "def A():\n",
    "    \"\"\" we are inside A \"\"\"\n",
    "    print(\"A is being decorated\")\n",
    "@B\n",
    "def C():\n",
    "    print(\"Inside C function\")\n",
    "# A=B(A)\n",
    "# print(A())\n",
    "print(A())\n",
    "\n",
    "\n",
    "print(C())"
   ]
  },
  {
   "cell_type": "code",
   "execution_count": 34,
   "id": "c561b80a",
   "metadata": {},
   "outputs": [
    {
     "name": "stdout",
     "output_type": "stream",
     "text": [
      "inner\n"
     ]
    }
   ],
   "source": [
    "print(A.__name__)"
   ]
  },
  {
   "cell_type": "code",
   "execution_count": 37,
   "id": "1e9d5e7c",
   "metadata": {},
   "outputs": [
    {
     "name": "stdout",
     "output_type": "stream",
     "text": [
      " we are inside inner \n"
     ]
    }
   ],
   "source": [
    "print(A.__doc__)"
   ]
  },
  {
   "cell_type": "markdown",
   "id": "1362e032",
   "metadata": {},
   "source": [
    "As currently, the decorated function holds the reference of wrapper function, if we try to print the doc string of the decorated function, we will get the docstring  of <b>wrapper</b>function.\n",
    "To get the docstring of decorated function,from functools import"
   ]
  },
  {
   "cell_type": "code",
   "execution_count": 41,
   "id": "24f9c0a3",
   "metadata": {},
   "outputs": [
    {
     "name": "stdout",
     "output_type": "stream",
     "text": [
      "wrapper called\n",
      "Inside A  10\n",
      "None\n",
      "wrapper called\n",
      "Inside B Zee 30\n",
      "None\n"
     ]
    }
   ],
   "source": [
    "def decorator(func):\n",
    "    def wrapper(*args,**kwargs):\n",
    "        print(\"wrapper called\")\n",
    "        func(*args)\n",
    "    return wrapper\n",
    "\n",
    "@decorator       \n",
    "def A(age):\n",
    "    print(\"Inside A \",age)\n",
    "    \n",
    "@decorator\n",
    "def B(name,age):\n",
    "    print(\"Inside B\",name,age)\n",
    "\n",
    "print(A(10))\n",
    "print(B(\"Zee\",30))\n"
   ]
  },
  {
   "cell_type": "code",
   "execution_count": 69,
   "id": "26f9fd5c",
   "metadata": {},
   "outputs": [
    {
     "name": "stdout",
     "output_type": "stream",
     "text": [
      "Hey user Tushar\n",
      "Your password is 1234\n",
      "None\n"
     ]
    }
   ],
   "source": [
    "l=[{'user':\"Tushar\",\"accesslevel\":\"Administrator\"}]\n",
    "\n",
    "def passwordgen(func):\n",
    "    def wrapper(*args,**kwargs):\n",
    "        func(*args,**kwargs)\n",
    "        for i in args:\n",
    "            if i[0].get(\"user\")==\"Tushar\":\n",
    "                print(\"Your password is 1234\")\n",
    "            else:\n",
    "                print(\"Access Denied\")\n",
    "    return wrapper\n",
    "    \n",
    "    \n",
    "@passwordgen    \n",
    "def A(l):\n",
    "    d=l[0]\n",
    "    print(f\"Hey user {d['user']}\")\n",
    "print(A(l))   "
   ]
  },
  {
   "cell_type": "code",
   "execution_count": null,
   "id": "ccda9bb1",
   "metadata": {},
   "outputs": [],
   "source": [
    "# def decorator(*args,**kwargs):\n",
    "#     print(\"Inside decorator\")\n",
    "#     def inner(func):\n",
    "#         print(\"Inside inner\")\n",
    "#         func()"
   ]
  },
  {
   "cell_type": "code",
   "execution_count": 75,
   "id": "36218f51",
   "metadata": {},
   "outputs": [
    {
     "name": "stdout",
     "output_type": "stream",
     "text": [
      "Counter({1: 3, 2: 3, 4: 2, 3: 1})\n",
      "Counter({'A': 3, 'B': 2, 'c': 1})\n",
      "Counter({'B': 2, 'A': 1, 'c': 1})\n"
     ]
    }
   ],
   "source": [
    "from collections import Counter\n",
    "a=[1,2,4,1,2,3,2,1,4]\n",
    "print(Counter(a))\n",
    "b={'A':3,'B':2,'c':1}\n",
    "print(Counter(b))\n",
    "print(Counter(A=1,B=2,c=1))\n"
   ]
  },
  {
   "cell_type": "code",
   "execution_count": 85,
   "id": "41ac6804",
   "metadata": {},
   "outputs": [
    {
     "name": "stdout",
     "output_type": "stream",
     "text": [
      "{'a': [10, 20, 60], 'b': [10], 'd': [50]}\n"
     ]
    }
   ],
   "source": [
    "x=[('a',10),('b',10),('a',20),('d',50),('a',60)]\n",
    "d={}\n",
    "for i in x:\n",
    "    if i[0] not in d:\n",
    "        d[i[0]]=[]\n",
    "        d[i[0]].append(i[1])\n",
    "    else:\n",
    "        d[i[0]].append(i[1])\n",
    "print(d)"
   ]
  },
  {
   "cell_type": "code",
   "execution_count": 88,
   "id": "2e313280",
   "metadata": {},
   "outputs": [],
   "source": [
    "import numpy as np\n",
    "h=[10,20,30,60]\n",
    "np_h=np.array(h)"
   ]
  },
  {
   "cell_type": "code",
   "execution_count": 90,
   "id": "5d29db67",
   "metadata": {},
   "outputs": [
    {
     "data": {
      "text/plain": [
       "numpy.ndarray"
      ]
     },
     "execution_count": 90,
     "metadata": {},
     "output_type": "execute_result"
    }
   ],
   "source": [
    "type(np_h)"
   ]
  },
  {
   "cell_type": "code",
   "execution_count": 91,
   "id": "ab11b089",
   "metadata": {},
   "outputs": [
    {
     "data": {
      "text/plain": [
       "array([ 20,  40,  60, 120])"
      ]
     },
     "execution_count": 91,
     "metadata": {},
     "output_type": "execute_result"
    }
   ],
   "source": [
    "np_h*2"
   ]
  },
  {
   "cell_type": "code",
   "execution_count": 93,
   "id": "5fdb15b6",
   "metadata": {},
   "outputs": [
    {
     "name": "stdout",
     "output_type": "stream",
     "text": [
      "[5 7 9]\n"
     ]
    }
   ],
   "source": [
    "a1=np.array([1,2,3])\n",
    "a2=np.array([4,5,6])\n",
    "print(a1+a2)"
   ]
  },
  {
   "cell_type": "code",
   "execution_count": 107,
   "id": "bcf5b5c0",
   "metadata": {},
   "outputs": [
    {
     "data": {
      "text/plain": [
       "array({1, 2, 3, 1.2}, dtype=object)"
      ]
     },
     "execution_count": 107,
     "metadata": {},
     "output_type": "execute_result"
    }
   ],
   "source": [
    "x=np.array({1,2,3,1.2,1,2.0},dtype=object)\n",
    "x"
   ]
  },
  {
   "cell_type": "code",
   "execution_count": 111,
   "id": "159e5e30",
   "metadata": {},
   "outputs": [
    {
     "data": {
      "text/plain": [
       "(5,)"
      ]
     },
     "execution_count": 111,
     "metadata": {},
     "output_type": "execute_result"
    }
   ],
   "source": [
    "heights=np.array([1,2,3,4,5])\n",
    "len(heights)\n",
    "heights.size\n",
    "heights.shape"
   ]
  },
  {
   "cell_type": "code",
   "execution_count": 124,
   "id": "6ffbbf3c",
   "metadata": {},
   "outputs": [
    {
     "data": {
      "text/plain": [
       "array([3, 4, 5])"
      ]
     },
     "execution_count": 124,
     "metadata": {},
     "output_type": "execute_result"
    }
   ],
   "source": [
    "a=np.array([2,3,4,5,7,10])\n",
    "b=np.array([3,4,5,6,])\n",
    "a[(a>2) &(a<7)]"
   ]
  },
  {
   "cell_type": "code",
   "execution_count": 125,
   "id": "aba252ee",
   "metadata": {},
   "outputs": [
    {
     "data": {
      "text/plain": [
       "10"
      ]
     },
     "execution_count": 125,
     "metadata": {},
     "output_type": "execute_result"
    }
   ],
   "source": [
    "max(a)"
   ]
  },
  {
   "cell_type": "code",
   "execution_count": 126,
   "id": "349fc54d",
   "metadata": {},
   "outputs": [
    {
     "data": {
      "text/plain": [
       "10"
      ]
     },
     "execution_count": 126,
     "metadata": {},
     "output_type": "execute_result"
    }
   ],
   "source": [
    "a.max()"
   ]
  },
  {
   "cell_type": "code",
   "execution_count": 127,
   "id": "3b6ffed9",
   "metadata": {},
   "outputs": [
    {
     "data": {
      "text/plain": [
       "2"
      ]
     },
     "execution_count": 127,
     "metadata": {},
     "output_type": "execute_result"
    }
   ],
   "source": [
    "min(a)"
   ]
  },
  {
   "cell_type": "code",
   "execution_count": 129,
   "id": "3b2eb22d",
   "metadata": {},
   "outputs": [
    {
     "data": {
      "text/plain": [
       "4.5"
      ]
     },
     "execution_count": 129,
     "metadata": {},
     "output_type": "execute_result"
    }
   ],
   "source": [
    "b.mean()"
   ]
  },
  {
   "cell_type": "code",
   "execution_count": 139,
   "id": "2d4af044",
   "metadata": {},
   "outputs": [
    {
     "data": {
      "text/plain": [
       "2"
      ]
     },
     "execution_count": 139,
     "metadata": {},
     "output_type": "execute_result"
    }
   ],
   "source": [
    "x=np.array([(1,2,3),(3,4,5),(5,6,7),(7,8,9)])\n",
    "x.ndim"
   ]
  },
  {
   "cell_type": "code",
   "execution_count": 133,
   "id": "d4fecea7",
   "metadata": {},
   "outputs": [
    {
     "data": {
      "text/plain": [
       "dtype('int32')"
      ]
     },
     "execution_count": 133,
     "metadata": {},
     "output_type": "execute_result"
    }
   ],
   "source": [
    "x.dtype"
   ]
  },
  {
   "cell_type": "code",
   "execution_count": 142,
   "id": "3d656768",
   "metadata": {},
   "outputs": [
    {
     "data": {
      "text/plain": [
       "array([[ 2,  6, 12],\n",
       "       [ 6, 12, 20],\n",
       "       [10, 18, 28],\n",
       "       [14, 24, 36]])"
      ]
     },
     "execution_count": 142,
     "metadata": {},
     "output_type": "execute_result"
    }
   ],
   "source": [
    "y=x*[2,3,4]\n",
    "y"
   ]
  },
  {
   "cell_type": "code",
   "execution_count": 143,
   "id": "66f76bc8",
   "metadata": {},
   "outputs": [
    {
     "data": {
      "text/plain": [
       "array([[1, 2, 3],\n",
       "       [3, 4, 5],\n",
       "       [5, 6, 7],\n",
       "       [7, 8, 9]])"
      ]
     },
     "execution_count": 143,
     "metadata": {},
     "output_type": "execute_result"
    }
   ],
   "source": [
    "x"
   ]
  },
  {
   "cell_type": "code",
   "execution_count": 149,
   "id": "f4ae5f44",
   "metadata": {},
   "outputs": [
    {
     "data": {
      "text/plain": [
       "array([[1, 2],\n",
       "       [5, 6]])"
      ]
     },
     "execution_count": 149,
     "metadata": {},
     "output_type": "execute_result"
    }
   ],
   "source": [
    "z=np.array([(1,2),(3,4),(5,6),(7,8)])\n",
    "z[0:3:2,0:2]"
   ]
  },
  {
   "cell_type": "code",
   "execution_count": 151,
   "id": "4a02d2af",
   "metadata": {},
   "outputs": [
    {
     "data": {
      "text/plain": [
       "2"
      ]
     },
     "execution_count": 151,
     "metadata": {},
     "output_type": "execute_result"
    }
   ],
   "source": [
    "z[0,1]"
   ]
  },
  {
   "cell_type": "code",
   "execution_count": null,
   "id": "8a9fc3e3",
   "metadata": {},
   "outputs": [],
   "source": []
  }
 ],
 "metadata": {
  "kernelspec": {
   "display_name": "Python 3 (ipykernel)",
   "language": "python",
   "name": "python3"
  },
  "language_info": {
   "codemirror_mode": {
    "name": "ipython",
    "version": 3
   },
   "file_extension": ".py",
   "mimetype": "text/x-python",
   "name": "python",
   "nbconvert_exporter": "python",
   "pygments_lexer": "ipython3",
   "version": "3.9.13"
  }
 },
 "nbformat": 4,
 "nbformat_minor": 5
}
