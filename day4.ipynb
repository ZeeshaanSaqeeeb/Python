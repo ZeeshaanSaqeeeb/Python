{
 "cells": [
  {
   "cell_type": "markdown",
   "id": "6f517dad",
   "metadata": {},
   "source": [
    "Create 2 lists with 2 common elemts.\n",
    "Create another list containing only the common elemets from both the lists"
   ]
  },
  {
   "cell_type": "code",
   "execution_count": 1,
   "id": "a056130a",
   "metadata": {},
   "outputs": [
    {
     "name": "stdout",
     "output_type": "stream",
     "text": [
      "[4, 5]\n"
     ]
    }
   ],
   "source": [
    "a=[1,2,3,4,5]\n",
    "b=[4,5,6,7,8]\n",
    "c=[x for x in a if x in b]\n",
    "print(c)"
   ]
  },
  {
   "cell_type": "code",
   "execution_count": 3,
   "id": "a4d96588",
   "metadata": {},
   "outputs": [
    {
     "data": {
      "text/plain": [
       "['JOHN', 'ABC', 'X']"
      ]
     },
     "execution_count": 3,
     "metadata": {},
     "output_type": "execute_result"
    }
   ],
   "source": [
    "a=['John','Abc','x']\n",
    "b=['john','abc','X']\n",
    "a_lower=[i.lower() for i in a]\n",
    "b_lower=[j.lower() for j in b]\n",
    "common_upper=[k.upper() for k in a_lower if k in b_lower]\n",
    "common_upper"
   ]
  },
  {
   "cell_type": "code",
   "execution_count": 5,
   "id": "f10565eb",
   "metadata": {},
   "outputs": [
    {
     "data": {
      "text/plain": [
       "{'C', 'D'}"
      ]
     },
     "execution_count": 5,
     "metadata": {},
     "output_type": "execute_result"
    }
   ],
   "source": [
    "#Set comprehension \n",
    "x={'a','b','c','d'}\n",
    "y={'c','e','d','f','g'}\n",
    "xy_common={i.title() for i in x&y}\n",
    "xy_common"
   ]
  },
  {
   "cell_type": "markdown",
   "id": "7b6a2140",
   "metadata": {},
   "source": []
  },
  {
   "cell_type": "code",
   "execution_count": 6,
   "id": "28ae3f93",
   "metadata": {},
   "outputs": [
    {
     "name": "stdout",
     "output_type": "stream",
     "text": [
      "[16, 81, 256]\n"
     ]
    }
   ],
   "source": [
    "x=[2,3,4]\n",
    "s=[ k**2 for k in[j**2 for j in x]]\n",
    "print(s)\n"
   ]
  },
  {
   "cell_type": "code",
   "execution_count": 7,
   "id": "e9b53da5",
   "metadata": {},
   "outputs": [],
   "source": [
    "f=open(\"file1.txt\",\"w\")\n",
    "f.write(\"Hello Zeeshaan\")\n",
    "f.close()"
   ]
  },
  {
   "cell_type": "markdown",
   "id": "705c819b",
   "metadata": {},
   "source": [
    "Convert a numner into binary,hexadecimal,octal"
   ]
  },
  {
   "cell_type": "code",
   "execution_count": 9,
   "id": "541c2e49",
   "metadata": {},
   "outputs": [
    {
     "name": "stdout",
     "output_type": "stream",
     "text": [
      "4\n",
      "4 100 4 4\n"
     ]
    }
   ],
   "source": [
    "n=int(input())\n",
    "b=bin(n)[2:]\n",
    "h=hex(n)[2:]\n",
    "o=oct(n)[2:]\n",
    "print(n,b,h,o)"
   ]
  },
  {
   "cell_type": "markdown",
   "id": "10247c91",
   "metadata": {},
   "source": [
    "Take an input from user separated by commas and you need to check whether that particular word is available in the line of another file. If it is available, we will be saving it to a file datamatch.txt "
   ]
  },
  {
   "cell_type": "code",
   "execution_count": 28,
   "id": "47a97f1d",
   "metadata": {},
   "outputs": [
    {
     "name": "stdout",
     "output_type": "stream",
     "text": [
      "Enter a stringhey,hello,Zeeshaan\n",
      "hey\n",
      "hello\n",
      "user\n",
      "Zeeshaan\n"
     ]
    }
   ],
   "source": [
    "s=input(\"Enter a string\")\n",
    "f=open(\"Comparingfile.txt\",\"r\")\n",
    "fr=f.read()\n",
    "fw=open(\"datamatch.txt\",\"w\")\n",
    "print(fr)\n",
    "for i in s.split(\",\"):\n",
    "    if i in fr:\n",
    "        fw.write(\"\\n\"+i)\n",
    "f.close()\n",
    "fw.close()"
   ]
  },
  {
   "cell_type": "markdown",
   "id": "35d8d035",
   "metadata": {},
   "source": [
    "Read csv file \n",
    "happy,50,happy@gmail.com \n",
    "janny,60,janny@gmail.com\n",
    "Read the csv file excluding the header and store only those details containing gmail.com domain in another file"
   ]
  },
  {
   "cell_type": "code",
   "execution_count": 56,
   "id": "5b7a4543",
   "metadata": {},
   "outputs": [
    {
     "name": "stdout",
     "output_type": "stream",
     "text": [
      "[['a', '22', 'zee@gmail.com'], ['b', '33', 'ced@gmail.com'], ['c', '44', 'xyz@hotmail.in'], ['d', '55', 'abc@yahoo.in']]\n"
     ]
    }
   ],
   "source": [
    "f=open('CSVData.txt','r')\n",
    "fr=f.readlines()\n",
    "fr2=[i.rstrip('\\n').split(\",\") for i in fr[1:] ]\n",
    "print(fr2)\n",
    "fw=open('gmailfile.txt','w')\n",
    "for i in fr2:\n",
    "    if \"gmail.com\" in i[2]:\n",
    "        fw.write(i[0]+\"$\"+i[2]+\"\\n\")\n",
    "f.close()\n",
    "fw.close()\n",
    "        "
   ]
  },
  {
   "cell_type": "code",
   "execution_count": null,
   "id": "dab64cec",
   "metadata": {},
   "outputs": [],
   "source": []
  },
  {
   "cell_type": "code",
   "execution_count": null,
   "id": "309208bb",
   "metadata": {},
   "outputs": [],
   "source": []
  }
 ],
 "metadata": {
  "kernelspec": {
   "display_name": "Python 3 (ipykernel)",
   "language": "python",
   "name": "python3"
  },
  "language_info": {
   "codemirror_mode": {
    "name": "ipython",
    "version": 3
   },
   "file_extension": ".py",
   "mimetype": "text/x-python",
   "name": "python",
   "nbconvert_exporter": "python",
   "pygments_lexer": "ipython3",
   "version": "3.9.13"
  }
 },
 "nbformat": 4,
 "nbformat_minor": 5
}
