{
 "cells": [
  {
   "cell_type": "code",
   "execution_count": 1,
   "id": "5f886706",
   "metadata": {},
   "outputs": [
    {
     "name": "stdout",
     "output_type": "stream",
     "text": [
      "1\n",
      "2\n",
      "3\n",
      "4\n",
      "5\n",
      "6\n",
      "7\n",
      "8\n",
      "9\n"
     ]
    }
   ],
   "source": [
    "for  i in range(1,10):\n",
    "    print(i)\n",
    "    \n"
   ]
  },
  {
   "cell_type": "markdown",
   "id": "053c655c",
   "metadata": {},
   "source": [
    "1. Take an input from the user and check the data based on the following conditions.\n",
    "    - The data should be of string data type\n",
    "    -the length of the inp should lie in the range from 6 to 15\n",
    "    - The input sould have atleat 1 capital letter\n",
    "    -1 small letter(a to j)\n",
    "    -1 number( 0-9)\n",
    "    -1 special character( #,@,$,%)"
   ]
  },
  {
   "cell_type": "code",
   "execution_count": 2,
   "id": "7392b539",
   "metadata": {},
   "outputs": [
    {
     "name": "stdout",
     "output_type": "stream",
     "text": [
      "Enter a string :abcdeA@1\n",
      "You are good to go\n"
     ]
    }
   ],
   "source": [
    "\n",
    "count=0\n",
    "while(count<4):\n",
    "    inp=input(\"Enter a string :\")\n",
    "    l_flag=False\n",
    "    cap_flag=False\n",
    "    small_flag=False\n",
    "    num_flag=False\n",
    "    spec_flag=False\n",
    "    l=len(inp)\n",
    "    if(l>=6 and l<=15):\n",
    "        l_flag=True\n",
    "    for i in inp:\n",
    "        if i>='A' and i<='Z':\n",
    "            cap_flag=True\n",
    "        if i>='a' and i<='j':\n",
    "            small_flag=True\n",
    "        if '0'<=i<='9':\n",
    "            num_flag=True\n",
    "        if i in '#@$%':\n",
    "            spec_flag=True\n",
    "    flag=l_flag and cap_flag and small_flag and num_flag and spec_flag\n",
    "    if(flag==True):\n",
    "        print(\"You are good to go\")\n",
    "        break\n",
    "    else:\n",
    "         print(\"Please enter a valid string\")\n",
    "    count+=1\n",
    "\n",
    "        \n",
    "        \n",
    "    \n",
    "\n",
    "\n"
   ]
  },
  {
   "cell_type": "markdown",
   "id": "f00b978a",
   "metadata": {},
   "source": [
    "2Q. Create a list containing elements of differenct types.In case if the element is of string data type,try to delete the element from \n",
    "the list,otherwise create square the number and update in the same list"
   ]
  },
  {
   "cell_type": "code",
   "execution_count": 3,
   "id": "5116e191",
   "metadata": {},
   "outputs": [
    {
     "data": {
      "text/plain": [
       "[1, 4, 9, 16, 51.84]"
      ]
     },
     "execution_count": 3,
     "metadata": {},
     "output_type": "execute_result"
    }
   ],
   "source": [
    "l=[1,2,3,\"Hello\",4,7.2]\n",
    "i=0\n",
    "while(i<len(l)):\n",
    "    if type(l[i])==str:\n",
    "        l.remove(l[i])\n",
    "    else:\n",
    "        l[i]=l[i]**2\n",
    "        i+=1\n",
    "l"
   ]
  },
  {
   "cell_type": "code",
   "execution_count": 4,
   "id": "5c947977",
   "metadata": {},
   "outputs": [
    {
     "data": {
      "text/plain": [
       "True"
      ]
     },
     "execution_count": 4,
     "metadata": {},
     "output_type": "execute_result"
    }
   ],
   "source": [
    "'x'>'a'"
   ]
  },
  {
   "cell_type": "markdown",
   "id": "f27a5680",
   "metadata": {},
   "source": [
    "Difference between zip and enumerate method"
   ]
  },
  {
   "cell_type": "code",
   "execution_count": 5,
   "id": "3bae5eb2",
   "metadata": {},
   "outputs": [
    {
     "name": "stdout",
     "output_type": "stream",
     "text": [
      "{1, 2, 3, 4, 5, 6, 7, 9}\n",
      "Difference  {1, 3, 6, 9}\n",
      "isjoint  False\n",
      "issuperset  False\n",
      " symm diff update  {1, 3, 5, 6, 7, 9}\n"
     ]
    }
   ],
   "source": [
    "#Perform union,difference,isdisjoint,issuperset,symmetric_difference_update\n",
    "\n",
    "a={1,2,4,6,3,9}\n",
    "b={2,5,4,7}\n",
    "c=a.union(b)\n",
    "print(c)\n",
    "d=a.difference(b)\n",
    "print(\"Difference \",d)\n",
    "print(\"isjoint \",a.isdisjoint(b))\n",
    "print(\"issuperset \",a.issuperset(b))\n",
    "\n",
    "a.symmetric_difference_update(b)\n",
    "print(\" symm diff update \",a)\n"
   ]
  },
  {
   "cell_type": "markdown",
   "id": "e356b0d7",
   "metadata": {},
   "source": [
    " Take an input string from a user and return all the unique words from the string\n",
    "Input :\"hey user hey tushar hope you are well. hey you\"\n",
    "Output:\"hey user tushar hope you are well\"\n"
   ]
  },
  {
   "cell_type": "code",
   "execution_count": 6,
   "id": "32cecfed",
   "metadata": {},
   "outputs": [
    {
     "data": {
      "text/plain": [
       "'you hope tushar are well. user hey'"
      ]
     },
     "execution_count": 6,
     "metadata": {},
     "output_type": "execute_result"
    }
   ],
   "source": [
    "s=\"hey user hey tushar hope you are well. hey you\"\n",
    "res=' '.join(list(set(s.split(\" \"))))\n",
    "res"
   ]
  },
  {
   "cell_type": "markdown",
   "id": "4c0b7135",
   "metadata": {},
   "source": [
    "In the string find out vowels with their count\n",
    "Example:\"Futurense\" u->2 e->2\n",
    "\n"
   ]
  },
  {
   "cell_type": "code",
   "execution_count": 7,
   "id": "5fdde8d4",
   "metadata": {},
   "outputs": [
    {
     "name": "stdout",
     "output_type": "stream",
     "text": [
      "{'u': 2, 'e': 2}\n"
     ]
    }
   ],
   "source": [
    "s=\"Futurense\"\n",
    "d={}\n",
    "for i in s:\n",
    "    if i in \"aeiouAEIOU\":\n",
    "        if i not in d.keys():\n",
    "            d[i]=1\n",
    "        else:\n",
    "            d[i]+=1\n",
    "print(d)"
   ]
  },
  {
   "cell_type": "markdown",
   "id": "bdd710eb",
   "metadata": {},
   "source": [
    "#Take input from the user and check for the least occured character and show the final output with its occuerence.In case there\n",
    "is a tie ,print any of the count of first character appearance\n",
    "Example: \"user Bangalore\"\n",
    "o/p:\"u\""
   ]
  },
  {
   "cell_type": "code",
   "execution_count": 8,
   "id": "331c41c1",
   "metadata": {},
   "outputs": [
    {
     "name": "stdout",
     "output_type": "stream",
     "text": [
      "['Z', 's', 'h', 'a', 'n']\n",
      " The character with least occurence and first in the string is :  Z\n"
     ]
    }
   ],
   "source": [
    "s=\"Zeeshan\"\n",
    "d={}\n",
    "for i in s:\n",
    "    d[i]=d.get(i,0)+1\n",
    "minimum=min(d.values())\n",
    "minimum_keys=[]\n",
    "for k,v in d.items():\n",
    "    if v==minimum:\n",
    "        minimum_keys.append(k)\n",
    "print(minimum_keys)\n",
    "c=minimum_keys[0]\n",
    "print(\" The character with least occurence and first in the string is : \",c)"
   ]
  },
  {
   "cell_type": "markdown",
   "id": "48cfa996",
   "metadata": {},
   "source": [
    "#Check the input string provided by the user. In case the input string provided is starting with vowel, we add on \"ing\" \n",
    "in the last other wise we add on \"esy\" in the end of the string"
   ]
  },
  {
   "cell_type": "code",
   "execution_count": 9,
   "id": "9d3688b5",
   "metadata": {},
   "outputs": [
    {
     "name": "stdout",
     "output_type": "stream",
     "text": [
      "axcvf\n",
      "axcvfing\n"
     ]
    }
   ],
   "source": [
    "s=input()\n",
    "res=s\n",
    "if s[0] in 'aeiouAEIOU':\n",
    "    res=res+\"ing\"\n",
    "else:\n",
    "    res+=\"esy\"\n",
    "print(res)"
   ]
  },
  {
   "cell_type": "code",
   "execution_count": 10,
   "id": "dafc8e2e",
   "metadata": {},
   "outputs": [
    {
     "name": "stdout",
     "output_type": "stream",
     "text": [
      "{'a': 'b', 'c': 'd'}\n"
     ]
    }
   ],
   "source": [
    "x=[('a','b'),('c','d')]\n",
    "print(dict(x))"
   ]
  },
  {
   "cell_type": "code",
   "execution_count": null,
   "id": "8898dd81",
   "metadata": {},
   "outputs": [],
   "source": []
  }
 ],
 "metadata": {
  "kernelspec": {
   "display_name": "Python 3 (ipykernel)",
   "language": "python",
   "name": "python3"
  },
  "language_info": {
   "codemirror_mode": {
    "name": "ipython",
    "version": 3
   },
   "file_extension": ".py",
   "mimetype": "text/x-python",
   "name": "python",
   "nbconvert_exporter": "python",
   "pygments_lexer": "ipython3",
   "version": "3.9.13"
  }
 },
 "nbformat": 4,
 "nbformat_minor": 5
}
