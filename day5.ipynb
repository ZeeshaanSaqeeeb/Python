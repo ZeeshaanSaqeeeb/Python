{
 "cells": [
  {
   "cell_type": "markdown",
   "id": "16f249a2",
   "metadata": {},
   "source": [
    "create a class student containing student name and marks in the list form"
   ]
  },
  {
   "cell_type": "code",
   "execution_count": 1,
   "id": "ef2fd872",
   "metadata": {},
   "outputs": [
    {
     "name": "stdout",
     "output_type": "stream",
     "text": [
      "xyz [10, 12, 56]\n",
      "26.0\n"
     ]
    }
   ],
   "source": [
    "class Student:\n",
    "    def __init__(self,name,marks):\n",
    "        self.name=name\n",
    "        self.marks=marks\n",
    "    def find_average(self):\n",
    "        print(sum(self.marks)/len(self.marks))\n",
    "s1=Student(\"Zee\",[20,30,40])\n",
    "s1=Student(\"xyz\",[10,12,56])\n",
    "print(s1.name,s1.marks)\n",
    "s1.find_average()"
   ]
  },
  {
   "cell_type": "code",
   "execution_count": 2,
   "id": "6fb24ac3",
   "metadata": {},
   "outputs": [
    {
     "name": "stdout",
     "output_type": "stream",
     "text": [
      "[20, 30, 40, [50, 60]]\n"
     ]
    }
   ],
   "source": [
    "class Student:\n",
    "    def __init__(self,name,marks):\n",
    "        self.name=name\n",
    "        self.marks=marks\n",
    "s1=Student(\"Zee\",[20,30,40])\n",
    "s1.marks.append([50,60])\n",
    "print(s1.marks)"
   ]
  },
  {
   "cell_type": "code",
   "execution_count": 3,
   "id": "9c8df44b",
   "metadata": {},
   "outputs": [
    {
     "name": "stdout",
     "output_type": "stream",
     "text": [
      "zeeshaan\n",
      "20\n"
     ]
    }
   ],
   "source": [
    "class Person:\n",
    "    def __init__(self,name,age):\n",
    "        self.name=name\n",
    "        self.age=age\n",
    "class Customer(Person):\n",
    "    def __init__(self,name,age,email):\n",
    "        super().__init__(name,age)\n",
    "        self.email=email\n",
    "c=Customer(\"zeeshaan\",20,'zee@gmail.com') \n",
    "print(c.name)\n",
    "print(c.age)"
   ]
  },
  {
   "cell_type": "markdown",
   "id": "77aef7ee",
   "metadata": {},
   "source": [
    "Create a class having 3 instance variables.\n",
    "Compare the addition of square of each individual is greater than the addition of square of second object\n",
    "return False,otherwise return true\n",
    "\n",
    "Eg: (2,1,4) (3,4,1)\n",
    "2**2+1**2+4**2=21\n",
    "3**2+4**2+1**2=26\n",
    "if 21>26 return True else return False\n"
   ]
  },
  {
   "cell_type": "code",
   "execution_count": 4,
   "id": "0663f543",
   "metadata": {},
   "outputs": [
    {
     "name": "stdout",
     "output_type": "stream",
     "text": [
      "True\n"
     ]
    }
   ],
   "source": [
    "class A:\n",
    "    def __init__(self,x,y,z):\n",
    "        self.x=x\n",
    "        self.y=y\n",
    "        self.z=z\n",
    "    def __gt__(self,ob):\n",
    "        if self.x**2+self.y**2+self.z**2> ob.x**2+ob.y**2+ob.z**2:\n",
    "            return False\n",
    "        else:\n",
    "            return True\n",
    "a=A(2,1,4)\n",
    "b=A(3,4,1)\n",
    "print(a>b)"
   ]
  },
  {
   "cell_type": "markdown",
   "id": "e9220b6c",
   "metadata": {},
   "source": [
    "Take an input number n.Find the sum of square of digits\n",
    "\n"
   ]
  },
  {
   "cell_type": "code",
   "execution_count": 13,
   "id": "f46e78ba",
   "metadata": {},
   "outputs": [
    {
     "name": "stdout",
     "output_type": "stream",
     "text": [
      "16\n",
      "37\n",
      "sum 37\n"
     ]
    }
   ],
   "source": [
    "n=input()\n",
    "s=0 \n",
    "for i in n:\n",
    "    s+=(int(i)**2)\n",
    "print(s)\n",
    "\n",
    "n=int(n)\n",
    "s=0\n",
    "while(n!=0):\n",
    "    s+=((n%10)**2)\n",
    "    n//=10\n",
    "print(\"sum \"+str(s))\n",
    "    "
   ]
  },
  {
   "cell_type": "code",
   "execution_count": 6,
   "id": "42bb44cc",
   "metadata": {},
   "outputs": [
    {
     "name": "stdout",
     "output_type": "stream",
     "text": [
      "37\n"
     ]
    }
   ],
   "source": [
    "#using recursions\n",
    "def sq(n):\n",
    "    if n<=0:\n",
    "        return 0\n",
    "    else:\n",
    "        return (n%10)**2 + sq(n//10)\n",
    "print(sq(16))"
   ]
  },
  {
   "cell_type": "code",
   "execution_count": 8,
   "id": "2b42a137",
   "metadata": {},
   "outputs": [
    {
     "name": "stdout",
     "output_type": "stream",
     "text": [
      "x\n"
     ]
    }
   ],
   "source": [
    "if (2,3):\n",
    "        print(\"x\")"
   ]
  },
  {
   "cell_type": "code",
   "execution_count": null,
   "id": "140ebb58",
   "metadata": {},
   "outputs": [],
   "source": []
  }
 ],
 "metadata": {
  "kernelspec": {
   "display_name": "Python 3 (ipykernel)",
   "language": "python",
   "name": "python3"
  },
  "language_info": {
   "codemirror_mode": {
    "name": "ipython",
    "version": 3
   },
   "file_extension": ".py",
   "mimetype": "text/x-python",
   "name": "python",
   "nbconvert_exporter": "python",
   "pygments_lexer": "ipython3",
   "version": "3.9.13"
  }
 },
 "nbformat": 4,
 "nbformat_minor": 5
}
